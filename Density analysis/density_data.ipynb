{
 "cells": [
  {
   "cell_type": "markdown",
   "metadata": {},
   "source": [
    "# Analise de dados sobre densidade"
   ]
  },
  {
   "cell_type": "code",
   "execution_count": 47,
   "metadata": {},
   "outputs": [],
   "source": [
    "import numpy as np"
   ]
  },
  {
   "cell_type": "code",
   "execution_count": 48,
   "metadata": {},
   "outputs": [
    {
     "name": "stdout",
     "output_type": "stream",
     "text": [
      "[0.37 0.6  0.83 1.05]\n"
     ]
    }
   ],
   "source": [
    "volumes = np.array([0.37, 0.60, 0.83, 1.05]) # Em mL\n",
    "print(volumes)"
   ]
  },
  {
   "cell_type": "code",
   "execution_count": 49,
   "metadata": {},
   "outputs": [
    {
     "name": "stdout",
     "output_type": "stream",
     "text": [
      "[1.075 1.675 2.229 2.795]\n"
     ]
    }
   ],
   "source": [
    "massa = np.array([1.075, 1.675, 2.229, 2.795]) # Em kg\n",
    "print(massa)"
   ]
  },
  {
   "cell_type": "code",
   "execution_count": 50,
   "metadata": {},
   "outputs": [],
   "source": [
    "df_density = np.array([volumes, massa])"
   ]
  },
  {
   "cell_type": "code",
   "execution_count": 51,
   "metadata": {},
   "outputs": [
    {
     "data": {
      "application/vnd.microsoft.datawrangler.viewer.v0+json": {
       "columns": [
        {
         "name": "index",
         "rawType": "int64",
         "type": "integer"
        },
        {
         "name": "Volumes",
         "rawType": "float64",
         "type": "float"
        },
        {
         "name": "Massa",
         "rawType": "float64",
         "type": "float"
        }
       ],
       "conversionMethod": "pd.DataFrame",
       "ref": "31e5baa7-a00f-491d-8e1f-5cf6fa650e3e",
       "rows": [
        [
         "0",
         "0.4",
         "1.075"
        ],
        [
         "1",
         "0.6",
         "1.678"
        ],
        [
         "2",
         "0.83",
         "2.229"
        ],
        [
         "3",
         "1.05",
         "2.795"
        ]
       ],
       "shape": {
        "columns": 2,
        "rows": 4
       }
      },
      "text/html": [
       "<div>\n",
       "<style scoped>\n",
       "    .dataframe tbody tr th:only-of-type {\n",
       "        vertical-align: middle;\n",
       "    }\n",
       "\n",
       "    .dataframe tbody tr th {\n",
       "        vertical-align: top;\n",
       "    }\n",
       "\n",
       "    .dataframe thead th {\n",
       "        text-align: right;\n",
       "    }\n",
       "</style>\n",
       "<table border=\"1\" class=\"dataframe\">\n",
       "  <thead>\n",
       "    <tr style=\"text-align: right;\">\n",
       "      <th></th>\n",
       "      <th>Volumes</th>\n",
       "      <th>Massa</th>\n",
       "    </tr>\n",
       "  </thead>\n",
       "  <tbody>\n",
       "    <tr>\n",
       "      <th>0</th>\n",
       "      <td>0.40</td>\n",
       "      <td>1.075</td>\n",
       "    </tr>\n",
       "    <tr>\n",
       "      <th>1</th>\n",
       "      <td>0.60</td>\n",
       "      <td>1.678</td>\n",
       "    </tr>\n",
       "    <tr>\n",
       "      <th>2</th>\n",
       "      <td>0.83</td>\n",
       "      <td>2.229</td>\n",
       "    </tr>\n",
       "    <tr>\n",
       "      <th>3</th>\n",
       "      <td>1.05</td>\n",
       "      <td>2.795</td>\n",
       "    </tr>\n",
       "  </tbody>\n",
       "</table>\n",
       "</div>"
      ],
      "text/plain": [
       "   Volumes  Massa\n",
       "0     0.40  1.075\n",
       "1     0.60  1.678\n",
       "2     0.83  2.229\n",
       "3     1.05  2.795"
      ]
     },
     "execution_count": 51,
     "metadata": {},
     "output_type": "execute_result"
    }
   ],
   "source": [
    "import pandas as pd\n",
    "\n",
    "df_density = pd.read_csv('data.csv', delimiter=',', header='infer')\n",
    "df_density"
   ]
  },
  {
   "cell_type": "code",
   "execution_count": 52,
   "metadata": {},
   "outputs": [
    {
     "data": {
      "text/plain": [
       "0    2.687500\n",
       "1    2.796667\n",
       "2    2.685542\n",
       "3    2.661905\n",
       "dtype: float64"
      ]
     },
     "execution_count": 52,
     "metadata": {},
     "output_type": "execute_result"
    }
   ],
   "source": [
    "densitys = df_density.Massa/df_density.Volumes\n",
    "densitys"
   ]
  },
  {
   "cell_type": "code",
   "execution_count": 53,
   "metadata": {},
   "outputs": [
    {
     "data": {
      "text/plain": [
       "2.707903399311532"
      ]
     },
     "execution_count": 53,
     "metadata": {},
     "output_type": "execute_result"
    }
   ],
   "source": [
    "densitys.mean()"
   ]
  },
  {
   "cell_type": "code",
   "execution_count": 54,
   "metadata": {},
   "outputs": [
    {
     "name": "stdout",
     "output_type": "stream",
     "text": [
      "\n",
      "Massa:\n",
      " - Range: 1.72\n",
      " - Variance: 0.54\n",
      " - Std.Dev: 0.74\n",
      "\n",
      "Volumes:\n",
      " - Range: 0.65\n",
      " - Variance: 0.08\n",
      " - Std.Dev: 0.28\n"
     ]
    }
   ],
   "source": [
    "for col_name in ['Massa','Volumes']:\n",
    "    col = df_density[col_name]\n",
    "    rng = col.max() - col.min()\n",
    "    var = col.var()\n",
    "    std = col.std()\n",
    "    print('\\n{}:\\n - Range: {:.2f}\\n - Variance: {:.2f}\\n - Std.Dev: {:.2f}'.format(col_name, rng, var, std))"
   ]
  },
  {
   "cell_type": "code",
   "execution_count": 55,
   "metadata": {},
   "outputs": [
    {
     "name": "stdout",
     "output_type": "stream",
     "text": [
      "As medidas de densidade estão 68% dentro de 2.65 e 2.77\n"
     ]
    }
   ],
   "source": [
    "print(f'As medidas de densidade estão 68% dentro de {round(densitys.mean()-densitys.std(), 2)} e {round(densitys.mean()+densitys.std(), 2)}')"
   ]
  },
  {
   "cell_type": "code",
   "execution_count": 56,
   "metadata": {},
   "outputs": [
    {
     "data": {
      "text/plain": [
       "<Axes: title={'center': 'Densidade'}, xlabel='Volumes', ylabel='Massa'>"
      ]
     },
     "execution_count": 56,
     "metadata": {},
     "output_type": "execute_result"
    },
    {
     "data": {
      "image/png": "[encoded data removed]",
      "text/plain": [
       "<Figure size 640x480 with 1 Axes>"
      ]
     },
     "metadata": {},
     "output_type": "display_data"
    }
   ],
   "source": [
    "df_density.plot.scatter(title='Densidade', x='Volumes', y='Massa', color='black')"
   ]
  },
  {
   "cell_type": "code",
   "execution_count": 57,
   "metadata": {},
   "outputs": [
    {
     "data": {
      "image/png": "[encoded data removed]",
      "text/plain": [
       "<Figure size 640x480 with 1 Axes>"
      ]
     },
     "metadata": {},
     "output_type": "display_data"
    },
    {
     "name": "stdout",
     "output_type": "stream",
     "text": [
      "Coeficiente angular da reta: 2.616400336417157\n",
      "Valor de y onde a reta intecepta o eixo y: 0.06044175777964722\n"
     ]
    }
   ],
   "source": [
    "from matplotlib import pyplot as plt\n",
    "from scipy import stats\n",
    "\n",
    "df_regression = df_density[['Massa','Volumes']].copy()\n",
    "\n",
    "m, b, r, p, e = stats.linregress(df_regression['Volumes'], df_regression['Massa'])\n",
    "\n",
    "df_regression['fx'] = (m*df_regression['Volumes']) + b\n",
    "\n",
    "df_regression['error'] = df_regression['fx'] - df_regression['Volumes']\n",
    "\n",
    "df_regression.plot.scatter(title='Densidade', x='Volumes', y='Massa', color='black')\n",
    "\n",
    "plt.plot(df_regression['Volumes'], df_regression['fx'], color='red')\n",
    "\n",
    "plt.show()\n",
    "\n",
    "print(f\"Coeficiente angular da reta: {m}\\nValor de y onde a reta intecepta o eixo y: {b}\")"
   ]
  },
  {
   "cell_type": "code",
   "execution_count": 58,
   "metadata": {},
   "outputs": [
    {
     "name": "stdout",
     "output_type": "stream",
     "text": [
      "Coeficiente de determinação R^2: 0.998\n"
     ]
    }
   ],
   "source": [
    "from sklearn.metrics import r2_score\n",
    "\n",
    "# Cálculo do coeficiente de determinação R^2\n",
    "r2 = r2_score(df_regression['Massa'], df_regression['fx'])\n",
    "print(f\"Coeficiente de determinação R^2: {round(r2, 3)}\")"
   ]
  },
  {
   "cell_type": "code",
   "execution_count": 59,
   "metadata": {},
   "outputs": [
    {
     "data": {
      "text/plain": [
       "5.293"
      ]
     },
     "execution_count": 59,
     "metadata": {},
     "output_type": "execute_result"
    }
   ],
   "source": [
    "def predict(x):\n",
    "    m = 2.616400336417157\n",
    "    b = 0.06044175777964722\n",
    "    return m*x+b\n",
    "\n",
    "prediction = predict(2)\n",
    "\n",
    "round(prediction, 3)"
   ]
  }
 ],
 "metadata": {
  "kernelspec": {
   "display_name": "Python 3",
   "language": "python",
   "name": "python3"
  },
  "language_info": {
   "codemirror_mode": {
    "name": "ipython",
    "version": 3
   },
   "file_extension": ".py",
   "mimetype": "text/x-python",
   "name": "python",
   "nbconvert_exporter": "python",
   "pygments_lexer": "ipython3",
   "version": "3.12.8"
  }
 },
 "nbformat": 4,
 "nbformat_minor": 2
}
